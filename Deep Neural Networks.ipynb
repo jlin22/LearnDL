{
 "cells": [
  {
   "cell_type": "code",
   "execution_count": 2,
   "metadata": {},
   "outputs": [],
   "source": [
    "import numpy as np\n",
    "import matplotlib.pyplot as plt"
   ]
  },
  {
   "cell_type": "markdown",
   "metadata": {},
   "source": [
    "Define activation functions, relu and sigmoid."
   ]
  },
  {
   "cell_type": "code",
   "execution_count": 136,
   "metadata": {},
   "outputs": [],
   "source": [
    "def relu(z):\n",
    "    return np.maximum(z, 0)"
   ]
  },
  {
   "cell_type": "code",
   "execution_count": 137,
   "metadata": {},
   "outputs": [],
   "source": [
    "def sigmoid(z):\n",
    "    return 1 / (1 + np.exp(-z))"
   ]
  },
  {
   "cell_type": "markdown",
   "metadata": {},
   "source": [
    "Let's create a function for He weight initialization given number of units for each hidden layer"
   ]
  },
  {
   "cell_type": "code",
   "execution_count": 138,
   "metadata": {},
   "outputs": [],
   "source": [
    "def weight_initialization(layer_dims):\n",
    "    parameters = {}\n",
    "    for i in range(1, len(layer_dims)):\n",
    "        parameters[\"W\" + str(i)] = np.random.randn(layer_dims[i], layer_dims[i - 1]) * np.sqrt(2 / layer_dims[i - 1])\n",
    "        parameters[\"b\" + str(i)] = np.zeros((layer_dims[i], 1))\n",
    "    return parameters"
   ]
  },
  {
   "cell_type": "markdown",
   "metadata": {},
   "source": [
    "Let's test our function"
   ]
  },
  {
   "cell_type": "code",
   "execution_count": 139,
   "metadata": {},
   "outputs": [
    {
     "name": "stdout",
     "output_type": "stream",
     "text": [
      "(50, 100)\n",
      "(50, 1)\n",
      "(1, 50)\n",
      "(1, 1)\n"
     ]
    }
   ],
   "source": [
    "layer_dims = (100, 50, 1)\n",
    "parameters = weight_initialization(layer_dims)\n",
    "for i in parameters.values():\n",
    "    print(i.shape)"
   ]
  },
  {
   "cell_type": "markdown",
   "metadata": {},
   "source": [
    "Let's create our training set"
   ]
  },
  {
   "cell_type": "code",
   "execution_count": 143,
   "metadata": {},
   "outputs": [],
   "source": [
    "X = np.random.rand(100, 100)\n",
    "Y = np.sum(X, axis = 0, keepdims=True)\n",
    "Y = np.where(Y > 50, 1, 0)"
   ]
  },
  {
   "cell_type": "markdown",
   "metadata": {},
   "source": [
    "Let's create a function for forward propagation and cost function now"
   ]
  },
  {
   "cell_type": "code",
   "execution_count": 175,
   "metadata": {},
   "outputs": [],
   "source": [
    "def forward_prop(parameters, X):\n",
    "    A_prev = X\n",
    "    caches = []\n",
    "    \n",
    "    for i in range(len(parameters) // 2):\n",
    "        # last layer\n",
    "        if i == len(parameters) // 2 - 1:\n",
    "            Z = np.dot(parameters[\"W\" + str(i + 1)], A_prev) + parameters[\"b\" + str(i + 1)]\n",
    "            A = sigmoid(Z)\n",
    "            cache = (Z, A)\n",
    "            caches.append(cache)\n",
    "            \n",
    "        # previous layers\n",
    "        else:\n",
    "            Z = np.dot(parameters[\"W\" + str(i + 1)], A_prev) + parameters[\"b\" + str(i + 1)]\n",
    "            A = relu(Z)\n",
    "            A_prev = A\n",
    "            cache = (Z, A)\n",
    "            caches.append(cache)\n",
    "        \n",
    "    Y_pred = A\n",
    "    return Y_pred, cache\n",
    "\n",
    "def compute_cost(Y_pred, Y):\n",
    "    m = Y.shape[1]\n",
    "    cost = -1 / m * np.sum(Y * np.log(Y_pred) + (1 - Y) * np.log(1 - Y_pred))\n",
    "    return cost"
   ]
  },
  {
   "cell_type": "markdown",
   "metadata": {},
   "source": [
    "Let's test our forward prop and backward prop functions now"
   ]
  },
  {
   "cell_type": "code",
   "execution_count": 176,
   "metadata": {},
   "outputs": [],
   "source": [
    "Y_pred, caches = forward_prop(parameters, X)\n",
    "cost = compute_cost(Y_pred, Y)"
   ]
  },
  {
   "cell_type": "code",
   "execution_count": 183,
   "metadata": {},
   "outputs": [],
   "source": [
    "def backward_prop(Y_pred, Y, cache, parameters):\n",
    "    # last layer\n",
    "    for i in reversed(range(len(parameters) // 2 - 1)):\n",
    "        if i == 1:\n",
    "            pass\n",
    "    grads = 0\n",
    "    return grads\n",
    "    "
   ]
  },
  {
   "cell_type": "code",
   "execution_count": 184,
   "metadata": {},
   "outputs": [
    {
     "data": {
      "text/plain": [
       "0"
      ]
     },
     "execution_count": 184,
     "metadata": {},
     "output_type": "execute_result"
    }
   ],
   "source": [
    "backward_prop(Y_pred, Y, cache, parameters)"
   ]
  },
  {
   "cell_type": "code",
   "execution_count": null,
   "metadata": {},
   "outputs": [],
   "source": []
  }
 ],
 "metadata": {
  "kernelspec": {
   "display_name": "Python 3",
   "language": "python",
   "name": "python3"
  },
  "language_info": {
   "codemirror_mode": {
    "name": "ipython",
    "version": 3
   },
   "file_extension": ".py",
   "mimetype": "text/x-python",
   "name": "python",
   "nbconvert_exporter": "python",
   "pygments_lexer": "ipython3",
   "version": "3.6.5"
  }
 },
 "nbformat": 4,
 "nbformat_minor": 2
}
