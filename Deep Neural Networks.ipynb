{
 "cells": [
  {
   "cell_type": "code",
   "execution_count": 1,
   "metadata": {},
   "outputs": [],
   "source": [
    "import numpy as np\n",
    "import matplotlib.pyplot as plt"
   ]
  },
  {
   "cell_type": "markdown",
   "metadata": {},
   "source": [
    "Define activation functions, relu and sigmoid."
   ]
  },
  {
   "cell_type": "code",
   "execution_count": 2,
   "metadata": {},
   "outputs": [],
   "source": [
    "def relu(z):\n",
    "    return np.maximum(z, 0)"
   ]
  },
  {
   "cell_type": "code",
   "execution_count": 3,
   "metadata": {},
   "outputs": [],
   "source": [
    "def sigmoid(z):\n",
    "    return 1 / (1 + np.exp(-z))"
   ]
  },
  {
   "cell_type": "markdown",
   "metadata": {},
   "source": [
    "Let's create a function for He weight initialization given number of units for each hidden layer"
   ]
  },
  {
   "cell_type": "code",
   "execution_count": 4,
   "metadata": {},
   "outputs": [],
   "source": [
    "def weight_initialization(layer_dims):\n",
    "    parameters = {}\n",
    "    for i in range(1, len(layer_dims)):\n",
    "        parameters[\"W\" + str(i)] = np.random.randn(layer_dims[i], layer_dims[i - 1]) * np.sqrt(2 / layer_dims[i - 1])\n",
    "        parameters[\"b\" + str(i)] = np.zeros((layer_dims[i], 1))\n",
    "    return parameters"
   ]
  },
  {
   "cell_type": "markdown",
   "metadata": {},
   "source": [
    "Let's test our function"
   ]
  },
  {
   "cell_type": "code",
   "execution_count": 5,
   "metadata": {},
   "outputs": [
    {
     "name": "stdout",
     "output_type": "stream",
     "text": [
      "(50, 100)\n",
      "(50, 1)\n",
      "(1, 50)\n",
      "(1, 1)\n"
     ]
    }
   ],
   "source": [
    "layer_dims = (100, 50, 1)\n",
    "parameters = weight_initialization(layer_dims)\n",
    "for i in parameters.values():\n",
    "    print(i.shape)"
   ]
  },
  {
   "cell_type": "markdown",
   "metadata": {},
   "source": [
    "Let's create our training set"
   ]
  },
  {
   "cell_type": "code",
   "execution_count": 6,
   "metadata": {},
   "outputs": [],
   "source": [
    "X = np.random.rand(100, 100)\n",
    "Y = np.sum(X, axis = 0, keepdims=True)\n",
    "Y = np.where(Y > 50, 1, 0)"
   ]
  },
  {
   "cell_type": "markdown",
   "metadata": {},
   "source": [
    "Let's create a function for forward propagation and cost function now"
   ]
  },
  {
   "cell_type": "code",
   "execution_count": 36,
   "metadata": {},
   "outputs": [],
   "source": [
    "def forward_prop(parameters, X):\n",
    "    A_prev = X\n",
    "    caches = []\n",
    "    \n",
    "    for i in range(len(parameters) // 2):\n",
    "        # last layer\n",
    "        if i == len(parameters) // 2 - 1:\n",
    "            Z = np.dot(parameters[\"W\" + str(i + 1)], A_prev) + parameters[\"b\" + str(i + 1)]\n",
    "            A = sigmoid(Z)\n",
    "            caches.append(A)\n",
    "            caches.append(Z)\n",
    "            \n",
    "        # previous layers\n",
    "        else:\n",
    "            Z = np.dot(parameters[\"W\" + str(i + 1)], A_prev) + parameters[\"b\" + str(i + 1)]\n",
    "            A = relu(Z)\n",
    "            A_prev = A\n",
    "            caches.append(A)\n",
    "            caches.append(Z)\n",
    "            \n",
    "    Y_pred = A\n",
    "    return Y_pred, caches\n",
    "\n",
    "def compute_cost(Y_pred, Y):\n",
    "    m = Y.shape[1]\n",
    "    cost = -1 / m * np.sum(Y * np.log(Y_pred) + (1 - Y) * np.log(1 - Y_pred))\n",
    "    return cost"
   ]
  },
  {
   "cell_type": "markdown",
   "metadata": {},
   "source": [
    "Let's test our forward prop and backward prop functions now"
   ]
  },
  {
   "cell_type": "code",
   "execution_count": 38,
   "metadata": {},
   "outputs": [
    {
     "name": "stdout",
     "output_type": "stream",
     "text": [
      "[array([[0.65666788, 0.15044596, 0.        , ..., 0.39403691, 0.29180268,\n",
      "        0.        ],\n",
      "       [0.        , 0.        , 0.        , ..., 0.        , 0.        ,\n",
      "        0.        ],\n",
      "       [0.        , 0.0567174 , 0.14668323, ..., 0.        , 0.        ,\n",
      "        0.        ],\n",
      "       ...,\n",
      "       [0.58025195, 0.81042484, 0.49972908, ..., 1.41710829, 0.7212729 ,\n",
      "        1.03940097],\n",
      "       [0.        , 0.53359968, 0.        , ..., 0.        , 0.08647453,\n",
      "        0.12019483],\n",
      "       [0.81099572, 0.87287185, 1.60196719, ..., 1.04579495, 1.05826795,\n",
      "        0.98111157]]), array([[ 0.65666788,  0.15044596, -0.08319178, ...,  0.39403691,\n",
      "         0.29180268, -0.0647376 ],\n",
      "       [-0.92813135, -0.3250482 , -1.1427534 , ..., -0.50086726,\n",
      "        -0.70996698, -0.44769025],\n",
      "       [-0.56536134,  0.0567174 ,  0.14668323, ..., -0.81880088,\n",
      "        -0.43167441, -0.76891693],\n",
      "       ...,\n",
      "       [ 0.58025195,  0.81042484,  0.49972908, ...,  1.41710829,\n",
      "         0.7212729 ,  1.03940097],\n",
      "       [-0.21972416,  0.53359968, -0.03188477, ..., -0.42471965,\n",
      "         0.08647453,  0.12019483],\n",
      "       [ 0.81099572,  0.87287185,  1.60196719, ...,  1.04579495,\n",
      "         1.05826795,  0.98111157]]), array([[0.52938016, 0.40788629, 0.38994095, 0.50996545, 0.28901333,\n",
      "        0.42176483, 0.49613961, 0.33660447, 0.34631406, 0.27262679,\n",
      "        0.64481585, 0.44910662, 0.27396986, 0.58010723, 0.58165944,\n",
      "        0.64345088, 0.53249827, 0.4872356 , 0.23410427, 0.39669182,\n",
      "        0.43020856, 0.21939323, 0.32383052, 0.47300156, 0.45132052,\n",
      "        0.3346066 , 0.39347184, 0.40086803, 0.52819623, 0.64812323,\n",
      "        0.3756935 , 0.39615357, 0.49803993, 0.50642908, 0.44924281,\n",
      "        0.2772672 , 0.3044772 , 0.52109505, 0.48532722, 0.64681918,\n",
      "        0.38757552, 0.47967189, 0.39667326, 0.53050948, 0.38280567,\n",
      "        0.33850672, 0.41550637, 0.60177717, 0.51822459, 0.51851721,\n",
      "        0.33006919, 0.54155613, 0.28386456, 0.42321004, 0.33434945,\n",
      "        0.33150427, 0.47529671, 0.40016203, 0.49738952, 0.43369698,\n",
      "        0.36259765, 0.28466713, 0.55795029, 0.41416042, 0.54886727,\n",
      "        0.53544134, 0.47744774, 0.66009691, 0.36926475, 0.38232831,\n",
      "        0.60068194, 0.50633325, 0.27808378, 0.2852774 , 0.57158798,\n",
      "        0.46941395, 0.29732874, 0.51227078, 0.29541436, 0.54581081,\n",
      "        0.33061584, 0.52746269, 0.49442465, 0.41437256, 0.39598324,\n",
      "        0.51198929, 0.36199383, 0.28244592, 0.49642206, 0.48756623,\n",
      "        0.3510899 , 0.40226233, 0.30012905, 0.43940928, 0.48985035,\n",
      "        0.36356355, 0.69197214, 0.54678291, 0.37588977, 0.2840703 ]]), array([[ 0.11765616, -0.37271025, -0.44756042,  0.03986708, -0.90018087,\n",
      "        -0.31553278, -0.01544186, -0.67846284, -0.63528097, -0.98133591,\n",
      "         0.59632839, -0.20428095, -0.97457341,  0.32321361,  0.3295893 ,\n",
      "         0.59037366,  0.13017661, -0.05106869, -1.18527943, -0.41926845,\n",
      "        -0.28100029, -1.26920582, -0.73622347, -0.10809892, -0.19533666,\n",
      "        -0.68742295, -0.43274165, -0.40184962,  0.11290472,  0.6107998 ,\n",
      "        -0.5078678 , -0.42151797, -0.00784032,  0.02571773, -0.20373053,\n",
      "        -0.9580579 , -0.82606758,  0.08443033, -0.05870796,  0.60508662,\n",
      "        -0.45751492, -0.08135729, -0.419346  ,  0.12218973, -0.47765647,\n",
      "        -0.66995589, -0.34124795,  0.41287549,  0.07293066,  0.07410272,\n",
      "        -0.70787213,  0.16660884, -0.92537207, -0.30960956, -0.68857814,\n",
      "        -0.70138932, -0.09889369, -0.40479001, -0.010442  , -0.26678322,\n",
      "        -0.56410726, -0.92142748,  0.23284752, -0.34679261,  0.19609507,\n",
      "         0.1420035 , -0.09027031,  0.66372611, -0.53537235, -0.47967736,\n",
      "         0.40830735,  0.02533437, -0.95398668, -0.91843246,  0.28833301,\n",
      "        -0.12249716, -0.86005078,  0.04909297, -0.86923091,  0.1837586 ,\n",
      "        -0.70540103,  0.10996141, -0.02230232, -0.34591836, -0.42223004,\n",
      "         0.04796636, -0.56672078, -0.93236124, -0.014312  , -0.04974535,\n",
      "        -0.61425187, -0.39604756, -0.8466834 , -0.24355979, -0.04060417,\n",
      "        -0.55993047,  0.80935546,  0.1876806 , -0.50703107, -0.92436024]])]\n"
     ]
    }
   ],
   "source": [
    "Y_pred, caches = forward_prop(parameters, X)\n",
    "cost = compute_cost(Y_pred, Y)"
   ]
  },
  {
   "cell_type": "code",
   "execution_count": 45,
   "metadata": {},
   "outputs": [],
   "source": [
    "def backward_prop(A, Y, caches, parameters):\n",
    "    \n",
    "    grads = {}\n",
    "    \n",
    "    dZ = A - Y\n",
    "    dW = 0\n",
    "    db = 0\n",
    "    \n",
    "    L = len(parameters) // 2\n",
    "    \n",
    "    # for layer in L : 1\n",
    "    for l in reversed(range(1, L + 1)):\n",
    "            '''\n",
    "        A = caches[2 * (l - 1)]\n",
    "        Z = caches[2 * (l - 1) + 1]\n",
    "        dW = np.dot(dZ, caches[]\n",
    "        db = np'''\n",
    "        dZ = np.dot(dW.T, dZ) * (1 if Z)\n",
    "\n",
    "            \n",
    "    return grads\n",
    "    "
   ]
  },
  {
   "cell_type": "code",
   "execution_count": 44,
   "metadata": {},
   "outputs": [
    {
     "name": "stdout",
     "output_type": "stream",
     "text": [
      "2\n",
      "2\n",
      "1\n"
     ]
    },
    {
     "ename": "AttributeError",
     "evalue": "'int' object has no attribute 'T'",
     "output_type": "error",
     "traceback": [
      "\u001b[0;31m-----------------------------------------------------\u001b[0m",
      "\u001b[0;31mAttributeError\u001b[0m      Traceback (most recent call last)",
      "\u001b[0;32m<ipython-input-44-ff062f1dcf2a>\u001b[0m in \u001b[0;36m<module>\u001b[0;34m()\u001b[0m\n\u001b[0;32m----> 1\u001b[0;31m \u001b[0mbackward_prop\u001b[0m\u001b[0;34m(\u001b[0m\u001b[0mY_pred\u001b[0m\u001b[0;34m,\u001b[0m \u001b[0mY\u001b[0m\u001b[0;34m,\u001b[0m \u001b[0mcaches\u001b[0m\u001b[0;34m,\u001b[0m \u001b[0mparameters\u001b[0m\u001b[0;34m)\u001b[0m\u001b[0;34m\u001b[0m\u001b[0m\n\u001b[0m",
      "\u001b[0;32m<ipython-input-43-6878bf4017e8>\u001b[0m in \u001b[0;36mbackward_prop\u001b[0;34m(A, Y, caches, parameters)\u001b[0m\n\u001b[1;32m     16\u001b[0m             \u001b[0mdZ\u001b[0m \u001b[0;34m=\u001b[0m \u001b[0mA\u001b[0m \u001b[0;34m-\u001b[0m \u001b[0mY\u001b[0m\u001b[0;34m\u001b[0m\u001b[0m\n\u001b[1;32m     17\u001b[0m         \u001b[0;32melse\u001b[0m\u001b[0;34m:\u001b[0m\u001b[0;34m\u001b[0m\u001b[0m\n\u001b[0;32m---> 18\u001b[0;31m             \u001b[0mdZ\u001b[0m \u001b[0;34m=\u001b[0m \u001b[0mnp\u001b[0m\u001b[0;34m.\u001b[0m\u001b[0mdot\u001b[0m\u001b[0;34m(\u001b[0m\u001b[0mdW\u001b[0m\u001b[0;34m.\u001b[0m\u001b[0mT\u001b[0m\u001b[0;34m,\u001b[0m \u001b[0mcache\u001b[0m\u001b[0;34m)\u001b[0m\u001b[0;34m\u001b[0m\u001b[0m\n\u001b[0m\u001b[1;32m     19\u001b[0m             '''\n\u001b[1;32m     20\u001b[0m         \u001b[0mA\u001b[0m \u001b[0;34m=\u001b[0m \u001b[0mcaches\u001b[0m\u001b[0;34m[\u001b[0m\u001b[0;34m]\u001b[0m\u001b[0;34m\u001b[0m\u001b[0m\n",
      "\u001b[0;31mAttributeError\u001b[0m: 'int' object has no attribute 'T'"
     ]
    }
   ],
   "source": [
    "backward_prop(Y_pred, Y, caches, parameters)"
   ]
  },
  {
   "cell_type": "code",
   "execution_count": null,
   "metadata": {},
   "outputs": [],
   "source": []
  }
 ],
 "metadata": {
  "kernelspec": {
   "display_name": "Python 3",
   "language": "python",
   "name": "python3"
  },
  "language_info": {
   "codemirror_mode": {
    "name": "ipython",
    "version": 3
   },
   "file_extension": ".py",
   "mimetype": "text/x-python",
   "name": "python",
   "nbconvert_exporter": "python",
   "pygments_lexer": "ipython3",
   "version": "3.6.5"
  }
 },
 "nbformat": 4,
 "nbformat_minor": 2
}
